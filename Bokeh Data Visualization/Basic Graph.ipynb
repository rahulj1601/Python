{
 "cells": [
  {
   "cell_type": "code",
   "execution_count": 1,
   "metadata": {},
   "outputs": [],
   "source": [
    "#making a basic Bokeh line graph\n",
    "\n",
    "#importing Bokeh\n",
    "from bokeh.plotting import figure\n",
    "from bokeh.io import output_file, show\n",
    "\n",
    "#prepare some data\n",
    "x=[1,2,3,4,5]\n",
    "y=[6,7,8,9,10]\n",
    "\n",
    "#prepare the output file\n",
    "output_file(\"Line.html\")\n",
    "\n",
    "#create a figure object\n",
    "f=figure()\n",
    "\n",
    "#create a line plot\n",
    "f.line(x,y) #pass x and y axis data\n",
    "\n",
    "#write the plot in the figure object\n",
    "show(f)"
   ]
  },
  {
   "cell_type": "code",
   "execution_count": 5,
   "metadata": {},
   "outputs": [],
   "source": [
    "from bokeh.plotting import figure\n",
    "from bokeh.io import show,output_file\n",
    "x=[1,2,3,4,5]\n",
    "y=[6,7,8,9,10]\n",
    "\n",
    "output_file(\"Triangle and Circle Glyphs.html\")\n",
    "\n",
    "f = figure()\n",
    "\n",
    "#f.triangle(x,y)\n",
    "f.circle(x,y)\n",
    "\n",
    "show(f)"
   ]
  },
  {
   "cell_type": "code",
   "execution_count": 6,
   "metadata": {},
   "outputs": [],
   "source": [
    "from bokeh.plotting import figure\n",
    "from bokeh.io import show,output_file\n",
    "import pandas\n",
    "\n",
    "df = pandas.read_csv(\"data.csv\")\n",
    "x = df[\"x\"]\n",
    "y = df[\"y\"]\n",
    "\n",
    "output_file(\"Line_from_csv.html\")\n",
    "\n",
    "f = figure()\n",
    "\n",
    "f.line(x,y)\n",
    "\n",
    "show(f)"
   ]
  },
  {
   "cell_type": "code",
   "execution_count": 7,
   "metadata": {},
   "outputs": [
    {
     "data": {
      "text/html": [
       "<div>\n",
       "<style scoped>\n",
       "    .dataframe tbody tr th:only-of-type {\n",
       "        vertical-align: middle;\n",
       "    }\n",
       "\n",
       "    .dataframe tbody tr th {\n",
       "        vertical-align: top;\n",
       "    }\n",
       "\n",
       "    .dataframe thead th {\n",
       "        text-align: right;\n",
       "    }\n",
       "</style>\n",
       "<table border=\"1\" class=\"dataframe\">\n",
       "  <thead>\n",
       "    <tr style=\"text-align: right;\">\n",
       "      <th></th>\n",
       "      <th>x</th>\n",
       "      <th>y</th>\n",
       "    </tr>\n",
       "  </thead>\n",
       "  <tbody>\n",
       "    <tr>\n",
       "      <th>0</th>\n",
       "      <td>1</td>\n",
       "      <td>6</td>\n",
       "    </tr>\n",
       "    <tr>\n",
       "      <th>1</th>\n",
       "      <td>2</td>\n",
       "      <td>7</td>\n",
       "    </tr>\n",
       "    <tr>\n",
       "      <th>2</th>\n",
       "      <td>3</td>\n",
       "      <td>8</td>\n",
       "    </tr>\n",
       "    <tr>\n",
       "      <th>3</th>\n",
       "      <td>4</td>\n",
       "      <td>9</td>\n",
       "    </tr>\n",
       "    <tr>\n",
       "      <th>4</th>\n",
       "      <td>5</td>\n",
       "      <td>10</td>\n",
       "    </tr>\n",
       "  </tbody>\n",
       "</table>\n",
       "</div>"
      ],
      "text/plain": [
       "   x   y\n",
       "0  1   6\n",
       "1  2   7\n",
       "2  3   8\n",
       "3  4   9\n",
       "4  5  10"
      ]
     },
     "execution_count": 7,
     "metadata": {},
     "output_type": "execute_result"
    }
   ],
   "source": [
    "df #shows csv file data frame which consists of columns and index rows"
   ]
  },
  {
   "cell_type": "code",
   "execution_count": 9,
   "metadata": {},
   "outputs": [],
   "source": [
    "from bokeh.plotting import figure\n",
    "from bokeh.io import show,output_file\n",
    "import pandas\n",
    "\n",
    "df = pandas.read_csv(\"bachelors.csv\")\n",
    "x = df[\"Year\"]\n",
    "y = df[\"Engineering\"]\n",
    "\n",
    "output_file(\"education_data.html\")\n",
    "\n",
    "f = figure()\n",
    "\n",
    "f.line(x,y)\n",
    "\n",
    "show(f)"
   ]
  },
  {
   "cell_type": "code",
   "execution_count": 31,
   "metadata": {},
   "outputs": [],
   "source": [
    "import pandas\n",
    "from bokeh.plotting import figure, output_file, show\n",
    " \n",
    "p=figure(plot_width=500,plot_height=400, tools='pan')\n",
    " \n",
    "p.title.text=\"Cool Data\"\n",
    "p.title.text_color=\"Gray\"\n",
    "p.title.text_font=\"times\"\n",
    "p.title.text_font_style=\"bold\"\n",
    "p.xaxis.minor_tick_line_color=None\n",
    "p.yaxis.minor_tick_line_color=None\n",
    "p.xaxis.axis_label=\"Date\"\n",
    "p.yaxis.axis_label=\"Intensity\"    \n",
    " \n",
    "p.line([1,2,3],[4,5,6])\n",
    "p.circle([5,2,5],[6,3,2]) #draw two graphs on top of the same chart\n",
    "\n",
    "output_file(\"graph.html\")\n",
    "show(p)"
   ]
  },
  {
   "cell_type": "code",
   "execution_count": 22,
   "metadata": {},
   "outputs": [],
   "source": [
    "import pandas\n",
    "from bokeh.plotting import figure, show, output_file\n",
    "\n",
    "df = pandas.read_excel(\"weather_data.xlsx\")\n",
    "x = df[\"Temperature\"]/10\n",
    "y = df[\"Pressure\"]/10\n",
    "\n",
    "output_file(\"Weather Data.html\")\n",
    "\n",
    "p = figure(plot_width=500,plot_height=400,tools='pan')\n",
    "\n",
    "p.title.text=\"Temperature and Air Pressure\"\n",
    "p.title.text_color=\"Gray\"\n",
    "p.title.text_font=\"arial\"\n",
    "p.title.text_font_style=\"bold\"\n",
    "p.xaxis.minor_tick_line_color=None\n",
    "p.yaxis.minor_tick_line_color=None\n",
    "p.xaxis.axis_label=\"Temperature (°C)\"\n",
    "p.yaxis.axis_label=\"Pressure (hPa)\"   \n",
    "\n",
    "p.circle(x,y,size=0.5, alpha=0.5) #alpha controls transparency\n",
    "\n",
    "show(p)"
   ]
  },
  {
   "cell_type": "code",
   "execution_count": 28,
   "metadata": {},
   "outputs": [],
   "source": [
    "import pandas\n",
    "from bokeh.plotting import figure, show, output_file\n",
    "\n",
    "df = pandas.read_csv(\"https://query1.finance.yahoo.com/v7/finance/download/AAPL?period1=1492438581&period2=1495030581&interval=1d&events=history&crumb=XXXXXXX\",parse_dates=[\"Date\"])\n",
    "\n",
    "p = figure(width=500,height=250,x_axis_type=\"datetime\", sizing_mode=\"scale_both\") #graph dimensions will be responsive\n",
    "\n",
    "p.line(df[\"Date\"],df[\"Close\"],color=\"Orange\",alpha=0.5)\n",
    "\n",
    "output_file(\"Timeseries.html\")\n",
    "show(p)"
   ]
  },
  {
   "cell_type": "code",
   "execution_count": null,
   "metadata": {},
   "outputs": [],
   "source": []
  }
 ],
 "metadata": {
  "kernelspec": {
   "display_name": "Python 3",
   "language": "python",
   "name": "python3"
  },
  "language_info": {
   "codemirror_mode": {
    "name": "ipython",
    "version": 3
   },
   "file_extension": ".py",
   "mimetype": "text/x-python",
   "name": "python",
   "nbconvert_exporter": "python",
   "pygments_lexer": "ipython3",
   "version": "3.7.6"
  }
 },
 "nbformat": 4,
 "nbformat_minor": 4
}
